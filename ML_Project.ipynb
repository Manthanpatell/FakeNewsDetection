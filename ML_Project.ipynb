{
 "cells": [
  {
   "cell_type": "markdown",
   "id": "a385c576",
   "metadata": {},
   "source": [
    "# Final Project ML\n",
    "## Group 12\n",
    "### Name: Manthan Patel"
   ]
  },
  {
   "cell_type": "code",
   "execution_count": 1,
   "id": "343be3d9",
   "metadata": {},
   "outputs": [],
   "source": [
    "#Importing the modules\n",
    "import numpy as np\n",
    "import pandas as pd\n",
    "import re\n",
    "from nltk.corpus import stopwords\n",
    "from nltk.stem.porter import PorterStemmer\n",
    "from sklearn.feature_extraction.text import TfidfVectorizer\n",
    "from sklearn.model_selection import train_test_split\n",
    "from sklearn.linear_model import LogisticRegression\n",
    "from sklearn.metrics import accuracy_score"
   ]
  },
  {
   "cell_type": "code",
   "execution_count": 2,
   "id": "c6e03291",
   "metadata": {},
   "outputs": [
    {
     "name": "stderr",
     "output_type": "stream",
     "text": [
      "[nltk_data] Downloading package stopwords to\n",
      "[nltk_data]     C:\\Users\\hp\\AppData\\Roaming\\nltk_data...\n",
      "[nltk_data]   Package stopwords is already up-to-date!\n"
     ]
    },
    {
     "data": {
      "text/plain": [
       "True"
      ]
     },
     "execution_count": 2,
     "metadata": {},
     "output_type": "execute_result"
    }
   ],
   "source": [
    "import nltk\n",
    "nltk.download('stopwords')"
   ]
  },
  {
   "cell_type": "code",
   "execution_count": 3,
   "id": "3e059a83",
   "metadata": {},
   "outputs": [
    {
     "name": "stdout",
     "output_type": "stream",
     "text": [
      "['i', 'me', 'my', 'myself', 'we', 'our', 'ours', 'ourselves', 'you', \"you're\", \"you've\", \"you'll\", \"you'd\", 'your', 'yours', 'yourself', 'yourselves', 'he', 'him', 'his', 'himself', 'she', \"she's\", 'her', 'hers', 'herself', 'it', \"it's\", 'its', 'itself', 'they', 'them', 'their', 'theirs', 'themselves', 'what', 'which', 'who', 'whom', 'this', 'that', \"that'll\", 'these', 'those', 'am', 'is', 'are', 'was', 'were', 'be', 'been', 'being', 'have', 'has', 'had', 'having', 'do', 'does', 'did', 'doing', 'a', 'an', 'the', 'and', 'but', 'if', 'or', 'because', 'as', 'until', 'while', 'of', 'at', 'by', 'for', 'with', 'about', 'against', 'between', 'into', 'through', 'during', 'before', 'after', 'above', 'below', 'to', 'from', 'up', 'down', 'in', 'out', 'on', 'off', 'over', 'under', 'again', 'further', 'then', 'once', 'here', 'there', 'when', 'where', 'why', 'how', 'all', 'any', 'both', 'each', 'few', 'more', 'most', 'other', 'some', 'such', 'no', 'nor', 'not', 'only', 'own', 'same', 'so', 'than', 'too', 'very', 's', 't', 'can', 'will', 'just', 'don', \"don't\", 'should', \"should've\", 'now', 'd', 'll', 'm', 'o', 're', 've', 'y', 'ain', 'aren', \"aren't\", 'couldn', \"couldn't\", 'didn', \"didn't\", 'doesn', \"doesn't\", 'hadn', \"hadn't\", 'hasn', \"hasn't\", 'haven', \"haven't\", 'isn', \"isn't\", 'ma', 'mightn', \"mightn't\", 'mustn', \"mustn't\", 'needn', \"needn't\", 'shan', \"shan't\", 'shouldn', \"shouldn't\", 'wasn', \"wasn't\", 'weren', \"weren't\", 'won', \"won't\", 'wouldn', \"wouldn't\"]\n"
     ]
    }
   ],
   "source": [
    "# printing the stopwords in English\n",
    "print(stopwords.words('english'))"
   ]
  },
  {
   "cell_type": "markdown",
   "id": "761b475e",
   "metadata": {},
   "source": [
    "# Data pre-processing"
   ]
  },
  {
   "cell_type": "code",
   "execution_count": 4,
   "id": "7f9a4f1c",
   "metadata": {},
   "outputs": [],
   "source": [
    "# loading the dataset to a pandas DataFrame\n",
    "dataset = pd.read_csv(\"D:\\Guelph_study\\ML\\Project\\data.csv\", low_memory = False)"
   ]
  },
  {
   "cell_type": "code",
   "execution_count": 5,
   "id": "4e1e0338",
   "metadata": {},
   "outputs": [],
   "source": [
    "data=dataset.iloc[:,0:5]"
   ]
  },
  {
   "cell_type": "code",
   "execution_count": 6,
   "id": "669aa05f",
   "metadata": {},
   "outputs": [
    {
     "data": {
      "text/html": [
       "<div>\n",
       "<style scoped>\n",
       "    .dataframe tbody tr th:only-of-type {\n",
       "        vertical-align: middle;\n",
       "    }\n",
       "\n",
       "    .dataframe tbody tr th {\n",
       "        vertical-align: top;\n",
       "    }\n",
       "\n",
       "    .dataframe thead th {\n",
       "        text-align: right;\n",
       "    }\n",
       "</style>\n",
       "<table border=\"1\" class=\"dataframe\">\n",
       "  <thead>\n",
       "    <tr style=\"text-align: right;\">\n",
       "      <th></th>\n",
       "      <th>title</th>\n",
       "      <th>text</th>\n",
       "      <th>subject</th>\n",
       "      <th>date</th>\n",
       "      <th>label</th>\n",
       "    </tr>\n",
       "  </thead>\n",
       "  <tbody>\n",
       "    <tr>\n",
       "      <th>0</th>\n",
       "      <td>Bye Bye Cowboys! Crowd Boos As Owner Jerry Jon...</td>\n",
       "      <td>The Dallas Cowboys tried to have it both ways ...</td>\n",
       "      <td>Government News</td>\n",
       "      <td>25-Sep-17</td>\n",
       "      <td>1</td>\n",
       "    </tr>\n",
       "    <tr>\n",
       "      <th>1</th>\n",
       "      <td>U.S. lawmakers seek missing information in rev...</td>\n",
       "      <td>LONDON, (Reuters) - The chairman of a congress...</td>\n",
       "      <td>politicsNews</td>\n",
       "      <td>8-Aug-17</td>\n",
       "      <td>0</td>\n",
       "    </tr>\n",
       "    <tr>\n",
       "      <th>2</th>\n",
       "      <td>SELF-ADMITTED SEXUAL PREDATOR Who Supported Wi...</td>\n",
       "      <td>The hypocrisy of these liberal  entertainers  ...</td>\n",
       "      <td>politics</td>\n",
       "      <td>20-Nov-16</td>\n",
       "      <td>1</td>\n",
       "    </tr>\n",
       "    <tr>\n",
       "      <th>3</th>\n",
       "      <td>Trump travel curbs pose revenue challenges for...</td>\n",
       "      <td>NEW YORK/SAN FRANCISCO (Reuters) - President D...</td>\n",
       "      <td>politicsNews</td>\n",
       "      <td>1-Feb-17</td>\n",
       "      <td>0</td>\n",
       "    </tr>\n",
       "    <tr>\n",
       "      <th>4</th>\n",
       "      <td>MARINE ARRESTED FOR Complaining About Governme...</td>\n",
       "      <td>This is some pretty surreal stuff In the four ...</td>\n",
       "      <td>Government News</td>\n",
       "      <td>27-Nov-15</td>\n",
       "      <td>1</td>\n",
       "    </tr>\n",
       "    <tr>\n",
       "      <th>...</th>\n",
       "      <td>...</td>\n",
       "      <td>...</td>\n",
       "      <td>...</td>\n",
       "      <td>...</td>\n",
       "      <td>...</td>\n",
       "    </tr>\n",
       "    <tr>\n",
       "      <th>44943</th>\n",
       "      <td>Stephen Colbert Trolls Trump By Announcing Ru...</td>\n",
       "      <td>Is he really going to do it this time? With St...</td>\n",
       "      <td>News</td>\n",
       "      <td>24-Jun-17</td>\n",
       "      <td>1</td>\n",
       "    </tr>\n",
       "    <tr>\n",
       "      <th>44944</th>\n",
       "      <td>LEFTIST ALAN COLMES THINKS WE SHOULD STOP “USI...</td>\n",
       "      <td>Remember when the left would have been ashamed...</td>\n",
       "      <td>left-news</td>\n",
       "      <td>5-May-15</td>\n",
       "      <td>1</td>\n",
       "    </tr>\n",
       "    <tr>\n",
       "      <th>44945</th>\n",
       "      <td>The American Energy Success Story Obama Won’t ...</td>\n",
       "      <td>Obama has waisted billions on green energy but...</td>\n",
       "      <td>Government News</td>\n",
       "      <td>29-Nov-15</td>\n",
       "      <td>1</td>\n",
       "    </tr>\n",
       "    <tr>\n",
       "      <th>44946</th>\n",
       "      <td>Bill O’Reilly SCREWS Fox News As SHOCKING Amo...</td>\n",
       "      <td>One of Fox News  biggest and most successful n...</td>\n",
       "      <td>News</td>\n",
       "      <td>4-Apr-17</td>\n",
       "      <td>1</td>\n",
       "    </tr>\n",
       "    <tr>\n",
       "      <th>44947</th>\n",
       "      <td>Major City SLAPS Greedy CEOs Like Trump With ...</td>\n",
       "      <td>This is HUGE news!The city council of Portland...</td>\n",
       "      <td>News</td>\n",
       "      <td>8-Dec-16</td>\n",
       "      <td>1</td>\n",
       "    </tr>\n",
       "  </tbody>\n",
       "</table>\n",
       "<p>44948 rows × 5 columns</p>\n",
       "</div>"
      ],
      "text/plain": [
       "                                                   title  \\\n",
       "0      Bye Bye Cowboys! Crowd Boos As Owner Jerry Jon...   \n",
       "1      U.S. lawmakers seek missing information in rev...   \n",
       "2      SELF-ADMITTED SEXUAL PREDATOR Who Supported Wi...   \n",
       "3      Trump travel curbs pose revenue challenges for...   \n",
       "4      MARINE ARRESTED FOR Complaining About Governme...   \n",
       "...                                                  ...   \n",
       "44943   Stephen Colbert Trolls Trump By Announcing Ru...   \n",
       "44944  LEFTIST ALAN COLMES THINKS WE SHOULD STOP “USI...   \n",
       "44945  The American Energy Success Story Obama Won’t ...   \n",
       "44946   Bill O’Reilly SCREWS Fox News As SHOCKING Amo...   \n",
       "44947   Major City SLAPS Greedy CEOs Like Trump With ...   \n",
       "\n",
       "                                                    text          subject  \\\n",
       "0      The Dallas Cowboys tried to have it both ways ...  Government News   \n",
       "1      LONDON, (Reuters) - The chairman of a congress...     politicsNews   \n",
       "2      The hypocrisy of these liberal  entertainers  ...         politics   \n",
       "3      NEW YORK/SAN FRANCISCO (Reuters) - President D...     politicsNews   \n",
       "4      This is some pretty surreal stuff In the four ...  Government News   \n",
       "...                                                  ...              ...   \n",
       "44943  Is he really going to do it this time? With St...             News   \n",
       "44944  Remember when the left would have been ashamed...        left-news   \n",
       "44945  Obama has waisted billions on green energy but...  Government News   \n",
       "44946  One of Fox News  biggest and most successful n...             News   \n",
       "44947  This is HUGE news!The city council of Portland...             News   \n",
       "\n",
       "            date label  \n",
       "0      25-Sep-17     1  \n",
       "1       8-Aug-17     0  \n",
       "2      20-Nov-16     1  \n",
       "3       1-Feb-17     0  \n",
       "4      27-Nov-15     1  \n",
       "...          ...   ...  \n",
       "44943  24-Jun-17     1  \n",
       "44944   5-May-15     1  \n",
       "44945  29-Nov-15     1  \n",
       "44946   4-Apr-17     1  \n",
       "44947   8-Dec-16     1  \n",
       "\n",
       "[44948 rows x 5 columns]"
      ]
     },
     "execution_count": 6,
     "metadata": {},
     "output_type": "execute_result"
    }
   ],
   "source": [
    "data"
   ]
  },
  {
   "cell_type": "code",
   "execution_count": 7,
   "id": "c4b1d96d",
   "metadata": {},
   "outputs": [
    {
     "data": {
      "text/plain": [
       "title      44\n",
       "text       49\n",
       "subject    70\n",
       "date       70\n",
       "label      70\n",
       "dtype: int64"
      ]
     },
     "execution_count": 7,
     "metadata": {},
     "output_type": "execute_result"
    }
   ],
   "source": [
    "# counting the number of missing values in the dataset\n",
    "data.isnull().sum()"
   ]
  },
  {
   "cell_type": "code",
   "execution_count": 8,
   "id": "5731911f",
   "metadata": {},
   "outputs": [],
   "source": [
    "# replacing the null values with empty string\n",
    "data = data.fillna('')"
   ]
  },
  {
   "cell_type": "code",
   "execution_count": 9,
   "id": "38a5420f",
   "metadata": {},
   "outputs": [
    {
     "name": "stdout",
     "output_type": "stream",
     "text": [
      "0        Bye Bye Cowboys! Crowd Boos As Owner Jerry Jon...\n",
      "1        U.S. lawmakers seek missing information in rev...\n",
      "2        SELF-ADMITTED SEXUAL PREDATOR Who Supported Wi...\n",
      "3        Trump travel curbs pose revenue challenges for...\n",
      "4        MARINE ARRESTED FOR Complaining About Governme...\n",
      "                               ...                        \n",
      "44943     Stephen Colbert Trolls Trump By Announcing Ru...\n",
      "44944    LEFTIST ALAN COLMES THINKS WE SHOULD STOP “USI...\n",
      "44945    The American Energy Success Story Obama Won’t ...\n",
      "44946     Bill O’Reilly SCREWS Fox News As SHOCKING Amo...\n",
      "44947     Major City SLAPS Greedy CEOs Like Trump With ...\n",
      "Name: content, Length: 44948, dtype: object\n"
     ]
    }
   ],
   "source": [
    "data['content'] = data['title']+' '+ data['subject']\n",
    "print(data['content'])"
   ]
  },
  {
   "cell_type": "code",
   "execution_count": 10,
   "id": "f8bb6f69",
   "metadata": {},
   "outputs": [],
   "source": [
    "# separating the data & label\n",
    "X = data.drop(columns='label', axis=1)\n",
    "Y = data['label']"
   ]
  },
  {
   "cell_type": "code",
   "execution_count": 11,
   "id": "d0493d51",
   "metadata": {},
   "outputs": [
    {
     "name": "stdout",
     "output_type": "stream",
     "text": [
      "                                                   title  \\\n",
      "0      Bye Bye Cowboys! Crowd Boos As Owner Jerry Jon...   \n",
      "1      U.S. lawmakers seek missing information in rev...   \n",
      "2      SELF-ADMITTED SEXUAL PREDATOR Who Supported Wi...   \n",
      "3      Trump travel curbs pose revenue challenges for...   \n",
      "4      MARINE ARRESTED FOR Complaining About Governme...   \n",
      "...                                                  ...   \n",
      "44943   Stephen Colbert Trolls Trump By Announcing Ru...   \n",
      "44944  LEFTIST ALAN COLMES THINKS WE SHOULD STOP “USI...   \n",
      "44945  The American Energy Success Story Obama Won’t ...   \n",
      "44946   Bill O’Reilly SCREWS Fox News As SHOCKING Amo...   \n",
      "44947   Major City SLAPS Greedy CEOs Like Trump With ...   \n",
      "\n",
      "                                                    text          subject  \\\n",
      "0      The Dallas Cowboys tried to have it both ways ...  Government News   \n",
      "1      LONDON, (Reuters) - The chairman of a congress...     politicsNews   \n",
      "2      The hypocrisy of these liberal  entertainers  ...         politics   \n",
      "3      NEW YORK/SAN FRANCISCO (Reuters) - President D...     politicsNews   \n",
      "4      This is some pretty surreal stuff In the four ...  Government News   \n",
      "...                                                  ...              ...   \n",
      "44943  Is he really going to do it this time? With St...             News   \n",
      "44944  Remember when the left would have been ashamed...        left-news   \n",
      "44945  Obama has waisted billions on green energy but...  Government News   \n",
      "44946  One of Fox News  biggest and most successful n...             News   \n",
      "44947  This is HUGE news!The city council of Portland...             News   \n",
      "\n",
      "            date                                            content  \n",
      "0      25-Sep-17  Bye Bye Cowboys! Crowd Boos As Owner Jerry Jon...  \n",
      "1       8-Aug-17  U.S. lawmakers seek missing information in rev...  \n",
      "2      20-Nov-16  SELF-ADMITTED SEXUAL PREDATOR Who Supported Wi...  \n",
      "3       1-Feb-17  Trump travel curbs pose revenue challenges for...  \n",
      "4      27-Nov-15  MARINE ARRESTED FOR Complaining About Governme...  \n",
      "...          ...                                                ...  \n",
      "44943  24-Jun-17   Stephen Colbert Trolls Trump By Announcing Ru...  \n",
      "44944   5-May-15  LEFTIST ALAN COLMES THINKS WE SHOULD STOP “USI...  \n",
      "44945  29-Nov-15  The American Energy Success Story Obama Won’t ...  \n",
      "44946   4-Apr-17   Bill O’Reilly SCREWS Fox News As SHOCKING Amo...  \n",
      "44947   8-Dec-16   Major City SLAPS Greedy CEOs Like Trump With ...  \n",
      "\n",
      "[44948 rows x 5 columns]\n",
      "0        1\n",
      "1        0\n",
      "2        1\n",
      "3        0\n",
      "4        1\n",
      "        ..\n",
      "44943    1\n",
      "44944    1\n",
      "44945    1\n",
      "44946    1\n",
      "44947    1\n",
      "Name: label, Length: 44948, dtype: object\n"
     ]
    }
   ],
   "source": [
    "print(X)\n",
    "print(Y)"
   ]
  },
  {
   "cell_type": "markdown",
   "id": "050e9e74",
   "metadata": {},
   "source": [
    "Stemming:\n",
    "\n",
    "Stemming is the process of reducing a word to its Root word\n",
    "\n",
    "example: actor, actress, acting --> act"
   ]
  },
  {
   "cell_type": "code",
   "execution_count": 12,
   "id": "d501b5eb",
   "metadata": {},
   "outputs": [],
   "source": [
    "port_stem = PorterStemmer()"
   ]
  },
  {
   "cell_type": "code",
   "execution_count": 13,
   "id": "d46abd89",
   "metadata": {},
   "outputs": [],
   "source": [
    "def stemming(content):\n",
    "    stemmed_content = re.sub('[^a-zA-Z]',' ',content)\n",
    "    stemmed_content = stemmed_content.lower()\n",
    "    stemmed_content = stemmed_content.split()\n",
    "    stemmed_content = [port_stem.stem(word) for word in stemmed_content if not word in stopwords.words('english')]\n",
    "    stemmed_content = ' '.join(stemmed_content)\n",
    "    return stemmed_content"
   ]
  },
  {
   "cell_type": "code",
   "execution_count": 23,
   "id": "ef50c81d",
   "metadata": {},
   "outputs": [],
   "source": [
    "data['content'] = data['content'].apply(stemming)"
   ]
  },
  {
   "cell_type": "code",
   "execution_count": 24,
   "id": "e084db31",
   "metadata": {},
   "outputs": [
    {
     "name": "stdout",
     "output_type": "stream",
     "text": [
      "0        bye bye cowboy crowd boo owner jerri jone knee...\n",
      "1        u lawmak seek miss inform review monsanto weed...\n",
      "2        self admit sexual predat support wife enabl se...\n",
      "3        trump travel curb pose revenu challeng u colle...\n",
      "4        marin arrest complain govern facebook su gover...\n",
      "                               ...                        \n",
      "44943    stephen colbert troll trump announc run presid...\n",
      "44944    leftist alan colm think stop use nation anthem...\n",
      "44945    american energi success stori obama tell world...\n",
      "44946    bill reilli screw fox news shock amount advert...\n",
      "44947    major citi slap greedi ceo like trump tax pena...\n",
      "Name: content, Length: 44948, dtype: object\n"
     ]
    }
   ],
   "source": [
    "print(data['content'])"
   ]
  },
  {
   "cell_type": "code",
   "execution_count": 25,
   "id": "efaab203",
   "metadata": {},
   "outputs": [
    {
     "data": {
      "text/html": [
       "<div>\n",
       "<style scoped>\n",
       "    .dataframe tbody tr th:only-of-type {\n",
       "        vertical-align: middle;\n",
       "    }\n",
       "\n",
       "    .dataframe tbody tr th {\n",
       "        vertical-align: top;\n",
       "    }\n",
       "\n",
       "    .dataframe thead th {\n",
       "        text-align: right;\n",
       "    }\n",
       "</style>\n",
       "<table border=\"1\" class=\"dataframe\">\n",
       "  <thead>\n",
       "    <tr style=\"text-align: right;\">\n",
       "      <th></th>\n",
       "      <th>title</th>\n",
       "      <th>text</th>\n",
       "      <th>subject</th>\n",
       "      <th>date</th>\n",
       "      <th>label</th>\n",
       "      <th>content</th>\n",
       "    </tr>\n",
       "  </thead>\n",
       "  <tbody>\n",
       "    <tr>\n",
       "      <th>0</th>\n",
       "      <td>Bye Bye Cowboys! Crowd Boos As Owner Jerry Jon...</td>\n",
       "      <td>The Dallas Cowboys tried to have it both ways ...</td>\n",
       "      <td>Government News</td>\n",
       "      <td>25-Sep-17</td>\n",
       "      <td>1</td>\n",
       "      <td>bye bye cowboy crowd boo owner jerri jone knee...</td>\n",
       "    </tr>\n",
       "    <tr>\n",
       "      <th>1</th>\n",
       "      <td>U.S. lawmakers seek missing information in rev...</td>\n",
       "      <td>LONDON, (Reuters) - The chairman of a congress...</td>\n",
       "      <td>politicsNews</td>\n",
       "      <td>8-Aug-17</td>\n",
       "      <td>0</td>\n",
       "      <td>u lawmak seek miss inform review monsanto weed...</td>\n",
       "    </tr>\n",
       "    <tr>\n",
       "      <th>2</th>\n",
       "      <td>SELF-ADMITTED SEXUAL PREDATOR Who Supported Wi...</td>\n",
       "      <td>The hypocrisy of these liberal  entertainers  ...</td>\n",
       "      <td>politics</td>\n",
       "      <td>20-Nov-16</td>\n",
       "      <td>1</td>\n",
       "      <td>self admit sexual predat support wife enabl se...</td>\n",
       "    </tr>\n",
       "    <tr>\n",
       "      <th>3</th>\n",
       "      <td>Trump travel curbs pose revenue challenges for...</td>\n",
       "      <td>NEW YORK/SAN FRANCISCO (Reuters) - President D...</td>\n",
       "      <td>politicsNews</td>\n",
       "      <td>1-Feb-17</td>\n",
       "      <td>0</td>\n",
       "      <td>trump travel curb pose revenu challeng u colle...</td>\n",
       "    </tr>\n",
       "    <tr>\n",
       "      <th>4</th>\n",
       "      <td>MARINE ARRESTED FOR Complaining About Governme...</td>\n",
       "      <td>This is some pretty surreal stuff In the four ...</td>\n",
       "      <td>Government News</td>\n",
       "      <td>27-Nov-15</td>\n",
       "      <td>1</td>\n",
       "      <td>marin arrest complain govern facebook su gover...</td>\n",
       "    </tr>\n",
       "    <tr>\n",
       "      <th>...</th>\n",
       "      <td>...</td>\n",
       "      <td>...</td>\n",
       "      <td>...</td>\n",
       "      <td>...</td>\n",
       "      <td>...</td>\n",
       "      <td>...</td>\n",
       "    </tr>\n",
       "    <tr>\n",
       "      <th>44943</th>\n",
       "      <td>Stephen Colbert Trolls Trump By Announcing Ru...</td>\n",
       "      <td>Is he really going to do it this time? With St...</td>\n",
       "      <td>News</td>\n",
       "      <td>24-Jun-17</td>\n",
       "      <td>1</td>\n",
       "      <td>stephen colbert troll trump announc run presid...</td>\n",
       "    </tr>\n",
       "    <tr>\n",
       "      <th>44944</th>\n",
       "      <td>LEFTIST ALAN COLMES THINKS WE SHOULD STOP “USI...</td>\n",
       "      <td>Remember when the left would have been ashamed...</td>\n",
       "      <td>left-news</td>\n",
       "      <td>5-May-15</td>\n",
       "      <td>1</td>\n",
       "      <td>leftist alan colm think stop use nation anthem...</td>\n",
       "    </tr>\n",
       "    <tr>\n",
       "      <th>44945</th>\n",
       "      <td>The American Energy Success Story Obama Won’t ...</td>\n",
       "      <td>Obama has waisted billions on green energy but...</td>\n",
       "      <td>Government News</td>\n",
       "      <td>29-Nov-15</td>\n",
       "      <td>1</td>\n",
       "      <td>american energi success stori obama tell world...</td>\n",
       "    </tr>\n",
       "    <tr>\n",
       "      <th>44946</th>\n",
       "      <td>Bill O’Reilly SCREWS Fox News As SHOCKING Amo...</td>\n",
       "      <td>One of Fox News  biggest and most successful n...</td>\n",
       "      <td>News</td>\n",
       "      <td>4-Apr-17</td>\n",
       "      <td>1</td>\n",
       "      <td>bill reilli screw fox news shock amount advert...</td>\n",
       "    </tr>\n",
       "    <tr>\n",
       "      <th>44947</th>\n",
       "      <td>Major City SLAPS Greedy CEOs Like Trump With ...</td>\n",
       "      <td>This is HUGE news!The city council of Portland...</td>\n",
       "      <td>News</td>\n",
       "      <td>8-Dec-16</td>\n",
       "      <td>1</td>\n",
       "      <td>major citi slap greedi ceo like trump tax pena...</td>\n",
       "    </tr>\n",
       "  </tbody>\n",
       "</table>\n",
       "<p>44948 rows × 6 columns</p>\n",
       "</div>"
      ],
      "text/plain": [
       "                                                   title  \\\n",
       "0      Bye Bye Cowboys! Crowd Boos As Owner Jerry Jon...   \n",
       "1      U.S. lawmakers seek missing information in rev...   \n",
       "2      SELF-ADMITTED SEXUAL PREDATOR Who Supported Wi...   \n",
       "3      Trump travel curbs pose revenue challenges for...   \n",
       "4      MARINE ARRESTED FOR Complaining About Governme...   \n",
       "...                                                  ...   \n",
       "44943   Stephen Colbert Trolls Trump By Announcing Ru...   \n",
       "44944  LEFTIST ALAN COLMES THINKS WE SHOULD STOP “USI...   \n",
       "44945  The American Energy Success Story Obama Won’t ...   \n",
       "44946   Bill O’Reilly SCREWS Fox News As SHOCKING Amo...   \n",
       "44947   Major City SLAPS Greedy CEOs Like Trump With ...   \n",
       "\n",
       "                                                    text          subject  \\\n",
       "0      The Dallas Cowboys tried to have it both ways ...  Government News   \n",
       "1      LONDON, (Reuters) - The chairman of a congress...     politicsNews   \n",
       "2      The hypocrisy of these liberal  entertainers  ...         politics   \n",
       "3      NEW YORK/SAN FRANCISCO (Reuters) - President D...     politicsNews   \n",
       "4      This is some pretty surreal stuff In the four ...  Government News   \n",
       "...                                                  ...              ...   \n",
       "44943  Is he really going to do it this time? With St...             News   \n",
       "44944  Remember when the left would have been ashamed...        left-news   \n",
       "44945  Obama has waisted billions on green energy but...  Government News   \n",
       "44946  One of Fox News  biggest and most successful n...             News   \n",
       "44947  This is HUGE news!The city council of Portland...             News   \n",
       "\n",
       "            date label                                            content  \n",
       "0      25-Sep-17     1  bye bye cowboy crowd boo owner jerri jone knee...  \n",
       "1       8-Aug-17     0  u lawmak seek miss inform review monsanto weed...  \n",
       "2      20-Nov-16     1  self admit sexual predat support wife enabl se...  \n",
       "3       1-Feb-17     0  trump travel curb pose revenu challeng u colle...  \n",
       "4      27-Nov-15     1  marin arrest complain govern facebook su gover...  \n",
       "...          ...   ...                                                ...  \n",
       "44943  24-Jun-17     1  stephen colbert troll trump announc run presid...  \n",
       "44944   5-May-15     1  leftist alan colm think stop use nation anthem...  \n",
       "44945  29-Nov-15     1  american energi success stori obama tell world...  \n",
       "44946   4-Apr-17     1  bill reilli screw fox news shock amount advert...  \n",
       "44947   8-Dec-16     1  major citi slap greedi ceo like trump tax pena...  \n",
       "\n",
       "[44948 rows x 6 columns]"
      ]
     },
     "execution_count": 25,
     "metadata": {},
     "output_type": "execute_result"
    }
   ],
   "source": [
    "data"
   ]
  },
  {
   "cell_type": "code",
   "execution_count": 26,
   "id": "0f5118a4",
   "metadata": {},
   "outputs": [],
   "source": [
    "#separating the data and label\n",
    "X = data['content']\n",
    "Y = data['label']"
   ]
  },
  {
   "cell_type": "code",
   "execution_count": 27,
   "id": "c0f8ebd6",
   "metadata": {},
   "outputs": [
    {
     "data": {
      "text/plain": [
       "0        bye bye cowboy crowd boo owner jerri jone knee...\n",
       "1        u lawmak seek miss inform review monsanto weed...\n",
       "2        self admit sexual predat support wife enabl se...\n",
       "3        trump travel curb pose revenu challeng u colle...\n",
       "4        marin arrest complain govern facebook su gover...\n",
       "                               ...                        \n",
       "44943    stephen colbert troll trump announc run presid...\n",
       "44944    leftist alan colm think stop use nation anthem...\n",
       "44945    american energi success stori obama tell world...\n",
       "44946    bill reilli screw fox news shock amount advert...\n",
       "44947    major citi slap greedi ceo like trump tax pena...\n",
       "Name: content, Length: 44948, dtype: object"
      ]
     },
     "execution_count": 27,
     "metadata": {},
     "output_type": "execute_result"
    }
   ],
   "source": [
    "X"
   ]
  },
  {
   "cell_type": "code",
   "execution_count": 28,
   "id": "adae8040",
   "metadata": {
    "scrolled": true
   },
   "outputs": [
    {
     "data": {
      "text/html": [
       "<div>\n",
       "<style scoped>\n",
       "    .dataframe tbody tr th:only-of-type {\n",
       "        vertical-align: middle;\n",
       "    }\n",
       "\n",
       "    .dataframe tbody tr th {\n",
       "        vertical-align: top;\n",
       "    }\n",
       "\n",
       "    .dataframe thead th {\n",
       "        text-align: right;\n",
       "    }\n",
       "</style>\n",
       "<table border=\"1\" class=\"dataframe\">\n",
       "  <thead>\n",
       "    <tr style=\"text-align: right;\">\n",
       "      <th></th>\n",
       "      <th>content</th>\n",
       "    </tr>\n",
       "    <tr>\n",
       "      <th>label</th>\n",
       "      <th></th>\n",
       "    </tr>\n",
       "  </thead>\n",
       "  <tbody>\n",
       "    <tr>\n",
       "      <th>1</th>\n",
       "      <td>NaN</td>\n",
       "    </tr>\n",
       "    <tr>\n",
       "      <th>0</th>\n",
       "      <td>NaN</td>\n",
       "    </tr>\n",
       "    <tr>\n",
       "      <th>1</th>\n",
       "      <td>NaN</td>\n",
       "    </tr>\n",
       "    <tr>\n",
       "      <th>0</th>\n",
       "      <td>NaN</td>\n",
       "    </tr>\n",
       "    <tr>\n",
       "      <th>1</th>\n",
       "      <td>NaN</td>\n",
       "    </tr>\n",
       "    <tr>\n",
       "      <th>...</th>\n",
       "      <td>...</td>\n",
       "    </tr>\n",
       "    <tr>\n",
       "      <th>1</th>\n",
       "      <td>NaN</td>\n",
       "    </tr>\n",
       "    <tr>\n",
       "      <th>1</th>\n",
       "      <td>NaN</td>\n",
       "    </tr>\n",
       "    <tr>\n",
       "      <th>1</th>\n",
       "      <td>NaN</td>\n",
       "    </tr>\n",
       "    <tr>\n",
       "      <th>1</th>\n",
       "      <td>NaN</td>\n",
       "    </tr>\n",
       "    <tr>\n",
       "      <th>1</th>\n",
       "      <td>NaN</td>\n",
       "    </tr>\n",
       "  </tbody>\n",
       "</table>\n",
       "<p>44948 rows × 1 columns</p>\n",
       "</div>"
      ],
      "text/plain": [
       "      content\n",
       "label        \n",
       "1         NaN\n",
       "0         NaN\n",
       "1         NaN\n",
       "0         NaN\n",
       "1         NaN\n",
       "...       ...\n",
       "1         NaN\n",
       "1         NaN\n",
       "1         NaN\n",
       "1         NaN\n",
       "1         NaN\n",
       "\n",
       "[44948 rows x 1 columns]"
      ]
     },
     "execution_count": 28,
     "metadata": {},
     "output_type": "execute_result"
    }
   ],
   "source": [
    "pd.DataFrame(X,Y)"
   ]
  },
  {
   "cell_type": "code",
   "execution_count": 29,
   "id": "1a1af201",
   "metadata": {},
   "outputs": [
    {
     "name": "stdout",
     "output_type": "stream",
     "text": [
      "0        bye bye cowboy crowd boo owner jerri jone knee...\n",
      "1        u lawmak seek miss inform review monsanto weed...\n",
      "2        self admit sexual predat support wife enabl se...\n",
      "3        trump travel curb pose revenu challeng u colle...\n",
      "4        marin arrest complain govern facebook su gover...\n",
      "                               ...                        \n",
      "44943    stephen colbert troll trump announc run presid...\n",
      "44944    leftist alan colm think stop use nation anthem...\n",
      "44945    american energi success stori obama tell world...\n",
      "44946    bill reilli screw fox news shock amount advert...\n",
      "44947    major citi slap greedi ceo like trump tax pena...\n",
      "Name: content, Length: 44948, dtype: object\n"
     ]
    }
   ],
   "source": [
    "print(X)"
   ]
  },
  {
   "cell_type": "code",
   "execution_count": 30,
   "id": "ecc9f179",
   "metadata": {},
   "outputs": [
    {
     "name": "stdout",
     "output_type": "stream",
     "text": [
      "0        1\n",
      "1        0\n",
      "2        1\n",
      "3        0\n",
      "4        1\n",
      "        ..\n",
      "44943    1\n",
      "44944    1\n",
      "44945    1\n",
      "44946    1\n",
      "44947    1\n",
      "Name: label, Length: 44948, dtype: object\n"
     ]
    }
   ],
   "source": [
    "print(Y)"
   ]
  },
  {
   "cell_type": "code",
   "execution_count": 31,
   "id": "0c0dd39e",
   "metadata": {},
   "outputs": [],
   "source": [
    "# converting the textual data to numerical data\n",
    "vectorizer = TfidfVectorizer()\n",
    "vectorizer.fit(X)\n",
    "\n",
    "X = vectorizer.transform(X)"
   ]
  },
  {
   "cell_type": "code",
   "execution_count": 32,
   "id": "ac2e2305",
   "metadata": {},
   "outputs": [
    {
     "name": "stdout",
     "output_type": "stream",
     "text": [
      "  (0, 12492)\t0.08718981191656512\n",
      "  (0, 11466)\t0.2043100765925704\n",
      "  (0, 8281)\t0.2190361310227432\n",
      "  (0, 7807)\t0.0657237297471734\n",
      "  (0, 6343)\t0.2687120278129719\n",
      "  (0, 6140)\t0.24612871129910985\n",
      "  (0, 6081)\t0.2824355157943186\n",
      "  (0, 4881)\t0.131387000923953\n",
      "  (0, 2689)\t0.21507576060196137\n",
      "  (0, 2590)\t0.3066084567791501\n",
      "  (0, 1642)\t0.5648710315886372\n",
      "  (0, 1386)\t0.30350317118053394\n",
      "  (0, 1318)\t0.25417161968988006\n",
      "  (0, 453)\t0.22908084790539354\n",
      "  (1, 12716)\t0.5062003582691564\n",
      "  (1, 10215)\t0.26756844093997767\n",
      "  (1, 9661)\t0.3133923189907986\n",
      "  (1, 8777)\t0.11364790695059057\n",
      "  (1, 7513)\t0.5255364802501161\n",
      "  (1, 7413)\t0.31686212125374835\n",
      "  (1, 6516)\t0.2630911577273614\n",
      "  (1, 5813)\t0.3394563022113711\n",
      "  (2, 12915)\t0.19504280839527902\n",
      "  (2, 12812)\t0.1828003135976377\n",
      "  (2, 12780)\t0.11843370838773501\n",
      "  :\t:\n",
      "  (44945, 361)\t0.30241540195752326\n",
      "  (44946, 12004)\t0.21240717147956095\n",
      "  (44946, 10399)\t0.26504362962167083\n",
      "  (44946, 10161)\t0.34429292391490346\n",
      "  (44946, 9465)\t0.31977056850397567\n",
      "  (44946, 7807)\t0.17939454365301516\n",
      "  (44946, 7789)\t0.3312918632863663\n",
      "  (44946, 4461)\t0.24530683857699834\n",
      "  (44946, 1117)\t0.20170548724635415\n",
      "  (44946, 375)\t0.3975489185168141\n",
      "  (44946, 139)\t0.37428263641794846\n",
      "  (44946, 6)\t0.35059142860854176\n",
      "  (44947, 11910)\t0.08986311576868182\n",
      "  (44947, 11450)\t0.2102503235455661\n",
      "  (44947, 10573)\t0.316681756033291\n",
      "  (44947, 8508)\t0.3641432881089326\n",
      "  (44947, 7807)\t0.08473741338659228\n",
      "  (44947, 6940)\t0.2497263694206111\n",
      "  (44947, 6683)\t0.22416943748626572\n",
      "  (44947, 5788)\t0.37827726891463526\n",
      "  (44947, 5748)\t0.3312052887545963\n",
      "  (44947, 4942)\t0.38428841740524344\n",
      "  (44947, 4226)\t0.23340025400953732\n",
      "  (44947, 2099)\t0.24817994765718968\n",
      "  (44947, 1873)\t0.2801766215455128\n"
     ]
    }
   ],
   "source": [
    "print(X)"
   ]
  },
  {
   "cell_type": "markdown",
   "id": "b462d39d",
   "metadata": {},
   "source": [
    "# Splitting the dataset to training & test data"
   ]
  },
  {
   "cell_type": "code",
   "execution_count": 33,
   "id": "cbcafba3",
   "metadata": {},
   "outputs": [],
   "source": [
    "X_train, X_test, Y_train, Y_test = train_test_split(X, Y, test_size = 0.3, random_state=3)"
   ]
  },
  {
   "cell_type": "markdown",
   "id": "07e0e9ed",
   "metadata": {},
   "source": [
    "Training the Model: Logistic Regression"
   ]
  },
  {
   "cell_type": "code",
   "execution_count": 34,
   "id": "d533afdd",
   "metadata": {},
   "outputs": [],
   "source": [
    "model = LogisticRegression()"
   ]
  },
  {
   "cell_type": "code",
   "execution_count": 35,
   "id": "92d986d3",
   "metadata": {},
   "outputs": [
    {
     "data": {
      "text/plain": [
       "LogisticRegression()"
      ]
     },
     "execution_count": 35,
     "metadata": {},
     "output_type": "execute_result"
    }
   ],
   "source": [
    "model.fit(X_train, Y_train)"
   ]
  },
  {
   "cell_type": "markdown",
   "id": "ae776c7d",
   "metadata": {},
   "source": [
    "Accuracy Score"
   ]
  },
  {
   "cell_type": "code",
   "execution_count": 36,
   "id": "cc5df27d",
   "metadata": {},
   "outputs": [],
   "source": [
    "# accuracy score on the training data\n",
    "X_train_prediction = model.predict(X_train)\n",
    "training_data_accuracy = accuracy_score(X_train_prediction, Y_train)"
   ]
  },
  {
   "cell_type": "code",
   "execution_count": 37,
   "id": "748eb785",
   "metadata": {},
   "outputs": [
    {
     "name": "stdout",
     "output_type": "stream",
     "text": [
      "Accuracy score of the training data :  0.9982836983123033\n"
     ]
    }
   ],
   "source": [
    "print('Accuracy score of the training data : ', training_data_accuracy)"
   ]
  },
  {
   "cell_type": "code",
   "execution_count": 38,
   "id": "6bafc3ea",
   "metadata": {},
   "outputs": [],
   "source": [
    "# accuracy score on the test data\n",
    "X_test_prediction = model.predict(X_test)\n",
    "test_data_accuracy = accuracy_score(X_test_prediction, Y_test)"
   ]
  },
  {
   "cell_type": "code",
   "execution_count": 39,
   "id": "3a1dfce1",
   "metadata": {},
   "outputs": [
    {
     "name": "stdout",
     "output_type": "stream",
     "text": [
      "Accuracy score of the test data :  0.9982944011865035\n"
     ]
    }
   ],
   "source": [
    "print('Accuracy score of the test data : ', test_data_accuracy)"
   ]
  },
  {
   "cell_type": "markdown",
   "id": "f8d56bc7",
   "metadata": {},
   "source": [
    "Making a Predictive System"
   ]
  },
  {
   "cell_type": "code",
   "execution_count": 40,
   "id": "974614f7",
   "metadata": {},
   "outputs": [
    {
     "name": "stdout",
     "output_type": "stream",
     "text": [
      "['1']\n",
      "The news is Fake\n"
     ]
    }
   ],
   "source": [
    "X_pred = X_test[782]\n",
    "\n",
    "prediction = model.predict(X_pred)\n",
    "print(prediction)\n",
    "\n",
    "if(prediction[0]=='0'):\n",
    "    print('The news is Real')\n",
    "else:\n",
    "    print('The news is Fake')"
   ]
  }
 ],
 "metadata": {
  "kernelspec": {
   "display_name": "Python 3 (ipykernel)",
   "language": "python",
   "name": "python3"
  },
  "language_info": {
   "codemirror_mode": {
    "name": "ipython",
    "version": 3
   },
   "file_extension": ".py",
   "mimetype": "text/x-python",
   "name": "python",
   "nbconvert_exporter": "python",
   "pygments_lexer": "ipython3",
   "version": "3.9.12"
  }
 },
 "nbformat": 4,
 "nbformat_minor": 5
}
